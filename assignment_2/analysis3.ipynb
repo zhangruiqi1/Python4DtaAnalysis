{
 "cells": [
  {
   "cell_type": "code",
   "execution_count": null,
   "metadata": {
    "collapsed": true
   },
   "outputs": [],
   "source": [
    "import statistics\n",
    "parser = argparse.ArgumentParser(description='Averge number')\n",
    "parser.add_argument('--search_term', help='search term') \n",
    "parser.add_argument('--min_date', help= 'min day in yyyy-mm-dd') \n",
    "parser.add_argument('--max_date', help= 'max day in yyyy-mm-dd') \n",
    "args = parser.parse_args()\n",
    "search_term = args.search_term\n",
    "min_day = args.min_date\n",
    "max_day = args.max_date\n",
    "min_date =datetime.datetime.strptime(min_day, '%Y-%m-%d').date()\n",
    "max_date =datetime.datetime.strptime(max_day, '%Y-%m-%d').date()\n",
    "dif_days_int = (max_date-min_date).days\n",
    "\n",
    "def add_days(days):\n",
    "    r_date = min_date + datetime.timedelta(days =days)\n",
    "    r_date_str = r_date.strftime('%Y-%m-%d')\n",
    "    return r_date_str\n",
    "                    \n",
    "for i in range(0,dif_days_int +1):  \n",
    "    parentPath = search_term +'/' + add_days(i)\n",
    "    listdir = os.listdir(parentPath)\n",
    "    list_text_count = list()\n",
    "    all_tweets = []\n",
    "    for file in listdir:\n",
    "        if (file.endswith('.json')):\n",
    "            with open(parentPath + '/' + file) as f:\n",
    "                content = json.load(f)\n",
    "                tweets = content['statuses']\n",
    "                j = 0\n",
    "                for tweet in tweets:\n",
    "                    text = tweets[j]['text']\n",
    "                    j+=1\n",
    "                    if 'Hillary' in text:\n",
    "                        list_text_count.append(text)\n",
    "                         \n",
    "    print(add_days(i))\n",
    "    t=len(list_text_count)                                          \n",
    "    print(t)\n"
   ]
  }
 ],
 "metadata": {
  "anaconda-cloud": {},
  "kernelspec": {
   "display_name": "Python [conda root]",
   "language": "python",
   "name": "conda-root-py"
  },
  "language_info": {
   "codemirror_mode": {
    "name": "ipython",
    "version": 3
   },
   "file_extension": ".py",
   "mimetype": "text/x-python",
   "name": "python",
   "nbconvert_exporter": "python",
   "pygments_lexer": "ipython3",
   "version": "3.5.2"
  }
 },
 "nbformat": 4,
 "nbformat_minor": 1
}
