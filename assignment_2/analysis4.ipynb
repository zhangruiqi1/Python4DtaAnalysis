{
 "cells": [
  {
   "cell_type": "code",
   "execution_count": null,
   "metadata": {
    "collapsed": true
   },
   "outputs": [],
   "source": [
    "import argparse, datetime, os, json\n",
    "import statistics\n",
    "parser = argparse.ArgumentParser(description='Averge number')\n",
    "parser.add_argument('--search_term', help='search term') \n",
    "parser.add_argument('--min_date', help= 'min day in yyyy-mm-dd') \n",
    "parser.add_argument('--max_date', help= 'max day in yyyy-mm-dd') \n",
    "args = parser.parse_args()\n",
    "search_term = args.search_term\n",
    "min_day = args.min_date\n",
    "max_day = args.max_date\n",
    "min_date =datetime.datetime.strptime(min_day, '%Y-%m-%d').date()\n",
    "max_date =datetime.datetime.strptime(max_day, '%Y-%m-%d').date()\n",
    "dif_days_int = (max_date-min_date).days\n",
    "\n",
    "def add_days(days):\n",
    "    r_date = min_date + datetime.timedelta(days =days)\n",
    "    r_date_str = r_date.strftime('%Y-%m-%d')\n",
    "    return r_date_str\n",
    "for i in range(0,len(dates)):\n",
    "    path = search_term + '/' + new_date(i)\n",
    "    file_list = os.listdir(path)\n",
    "    retweet_count_list = []\n",
    "    for js_file in file_list:\n",
    "        if (js_file.endswith('.json')):\n",
    "            with open (path + '/' + js_file, \"r\" ,encoding=\"utf-8\", errors=\"ignore\") as jd:\n",
    "                content = json.load(jd)\n",
    "                tweets = content[\"statuses\"]\n",
    "                i = 0\n",
    "                for tweet in tweets:\n",
    "                    text = tweets[i]['text']\n",
    "                    retweet_count = tweets[i]['retweet_count']\n",
    "                    i += 1\n",
    "                    retweet_count_list.append(retweet_count)\n",
    "                    retweet_tweets.update({text:retweet_count})\n",
    "top_three = dict(sorted(retweet_tweets.items(), key=operator.itemgetter(1), reverse=True)[:3])\n",
    "#print(\"This is top 3 presidential debate retweeted tweets.\")\n",
    "print(top_three)"
   ]
  }
 ],
 "metadata": {
  "kernelspec": {
   "display_name": "Python [conda root]",
   "language": "python",
   "name": "conda-root-py"
  },
  "language_info": {
   "codemirror_mode": {
    "name": "ipython",
    "version": 3
   },
   "file_extension": ".py",
   "mimetype": "text/x-python",
   "name": "python",
   "nbconvert_exporter": "python",
   "pygments_lexer": "ipython3",
   "version": "3.5.2"
  }
 },
 "nbformat": 4,
 "nbformat_minor": 1
}
