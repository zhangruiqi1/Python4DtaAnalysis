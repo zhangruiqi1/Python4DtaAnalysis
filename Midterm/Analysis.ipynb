{
 "cells": [
  {
   "cell_type": "code",
   "execution_count": 43,
   "metadata": {
    "collapsed": false
   },
   "outputs": [
    {
     "name": "stdout",
     "output_type": "stream",
     "text": [
      "top questions according to the weightage:\n",
      "Changing DataFrame display format for time_delta columns\n",
      "top questions according to the weightage:\n",
      "calculating differences within groups\n"
     ]
    }
   ],
   "source": [
    "import json\n",
    "b = json.loads(open(\"/Users/ruiqizhang/DAPassignment/Midterm/tag/pythonpandas.json\").read())\n",
    "result = {}\n",
    "for i in b['items']:\n",
    "    userid= i[\"owner\"][\"user_id\"]\n",
    "    if userid not in result:\n",
    "        result[i[\"owner\"][\"user_id\"]  ] = []\n",
    "    result[userid].append( i)\n",
    "#use user id to get usr profile\n",
    "weight_dict = {}    \n",
    "for usr_id in result.keys():\n",
    "    fp = open('/Users/ruiqizhang/DAPassignment/Midterm/1/%s'%(usr_id),'r')\n",
    "    b  = json.loads(fp.read()) \n",
    "    #b = json.loads(data)\n",
    "    #print(b)\n",
    "    badge_counts = b['items'][0]['badge_counts']\n",
    "    weight_dict[usr_id] = badge_counts['gold']*100 + badge_counts['silver']*10 + badge_counts['bronze']\n",
    "#show top usrid 's questions\n",
    "for usr_id,value in sorted(weight_dict.items(),key = lambda x:x[1],reverse = True)[:1]:\n",
    "    for que in result[usr_id]:\n",
    "        print('top questions according to the weightage:')\n",
    "        print(que['title'])\n",
    "\n",
    "   \n",
    "         "
   ]
  },
  {
   "cell_type": "code",
   "execution_count": null,
   "metadata": {
    "collapsed": true
   },
   "outputs": [],
   "source": [
    "Analysis 2"
   ]
  },
  {
   "cell_type": "code",
   "execution_count": 48,
   "metadata": {
    "collapsed": false
   },
   "outputs": [
    {
     "name": "stdout",
     "output_type": "stream",
     "text": [
      " user who have reputation in tag python:\n",
      "(5760497, 'Touya D. Serdan', 'http://stackoverflow.com/users/5760497/touya-d-serdan')\n"
     ]
    }
   ],
   "source": [
    "import json \n",
    "result = json.loads(open(\"/Users/ruiqizhang/DAPassignment/Midterm/tag/pythonpandas.json\").read())\n",
    "tag_dict = {}  \n",
    "# get all the tags\n",
    "for v in result['items']:\n",
    "    for tag in v[ \"tags\"]:\n",
    "        if tag not in tag_dict:\n",
    "            tag_dict[tag] = set()\n",
    "        tag_dict[tag].add((v['owner']['user_id'], v['owner']['display_name'], v['owner']['link']))\n",
    "#for usr_id,value in result.items():\n",
    "        #for tag in value[ \"tags\"]:\n",
    "            #if tag not in tag_dict:\n",
    "                 #tag_dict[tag] = set()\n",
    "             #tag_dict[tag].add((usr_id, value['owner']['display_name'], value['owner']['link']))\n",
    "            \n",
    "fp = open('analyze2.txt','w')\n",
    "for key,value in tag_dict.items():\n",
    "    fp.write(\"%s %s\\n\"%(key,value ) )\n",
    "fp.close()\n",
    "    #find the topic python user\n",
    "for i in tag_dict['python']:\n",
    "    print(' user who have tag python:')\n",
    "    print(i)\n",
    "    break\n",
    "    \n"
   ]
  },
  {
   "cell_type": "raw",
   "metadata": {},
   "source": [
    "Analysis 3"
   ]
  },
  {
   "cell_type": "code",
   "execution_count": 15,
   "metadata": {
    "collapsed": false
   },
   "outputs": [
    {
     "name": "stdout",
     "output_type": "stream",
     "text": [
      "Each badge type have these usres  [('bronze', 88), ('silver', 43), ('gold', 18)]\n"
     ]
    }
   ],
   "source": [
    "import json \n",
    "b = json.loads(open(\"/Users/ruiqizhang/DAPassignment/Midterm/tag/pythonpandas.json\").read())\n",
    "result = {}\n",
    "for i in b['items']:\n",
    "    userid= i[\"owner\"][\"user_id\"]\n",
    "    if userid not in result:\n",
    "        result[i[\"owner\"][\"user_id\"]  ] = []\n",
    "    result[userid].append( i)\n",
    "#use user id to get usr profile\n",
    "badge_list = {'gold':0,'silver':0,'bronze':0}   \n",
    "for usr_id in result.keys():\n",
    "    fp = open('./1/%s'%(usr_id),'r')\n",
    "    b  = json.loads(fp.read()) \n",
    "    badge_counts = b['items'][0]['badge_counts']\n",
    "    badge_list['gold'] += 0   if badge_counts['gold'] == 0 else 1\n",
    "    badge_list['silver'] +=0   if  badge_counts['silver'] == 0 else 1\n",
    "    badge_list['bronze'] += 0   if badge_counts['bronze'] == 0 else 1\n",
    "print(\"Each badge type have these usres \",  sorted(badge_list.items(),key = lambda x: x[1],reverse = True ))"
   ]
  },
  {
   "cell_type": "code",
   "execution_count": null,
   "metadata": {
    "collapsed": true
   },
   "outputs": [],
   "source": [
    "Analysis 4"
   ]
  },
  {
   "cell_type": "code",
   "execution_count": 50,
   "metadata": {
    "collapsed": false
   },
   "outputs": [
    {
     "name": "stdout",
     "output_type": "stream",
     "text": [
      "Tags attached to for each of the question: \n",
      "{'Making a single number per line pyramid using nested loop and trying to center it': {'java'}, 'Android Studio - Device is connected but &#39;offline&#39;': {'adb', 'android-studio'}, 'What does the JLS mean by statements do not have values?': {'statements', 'java'}, 'How to login with cURL with POST and Cookie': {'cookies', 'forms', 'curl', 'php', 'login'}, 'Regular Expression to Match Full Name with Optional Middle Name': {'perl', 'text', 'regex'}, 'API to manage Wix DNS': {'wix', 'api', 'dns', 'sdk'}, 'Split Period-Delimited Nodes To JSON Object': {'json', 'powershell'}, 'What is the difference between list and dictionary in python vs 1D and 2D arrays in C++?': {'python-3.x', 'python', 'c++'}, 'JBOSS - The transaction is not active error': {'transactions', 'jboss', 'heap-size'}, 'SparkSQL: Am I doing in right?': {'phoenix', 'apache-spark-sql', 'hbase', 'apache-spark'}, 'Spring: is it possible to use different view resolvers?': {'spring-mvc', 'birt', 'java'}, 'Showing download progress in RecyclerView using DownloadManager': {'android-download-manager', 'android', 'recyclerview'}, '&quot;Stale file handle&quot; error, when process trying read the file, that other process already had deleted': {'nfs', 'linux', 'python'}, 'I need to capture the IP Address to google spreadsheet via google web form': {'google-spreadsheet', 'google-apps-script', 'google-form'}, 'How to override equals in base and child class': {'override', 'java', 'equals'}, 'How to use hyperlink in excel to link to another worksheet cell in same workbook in python': {'python', 'excel'}, 'Escape NSString for javascript input': {'iphone', 'ascii', 'objective-c', 'javascript', 'escaping'}, 'I want to open a new ViewController through UITableViewRowButtonAction': {'swift', 'ios', 'objective-c', 'uipopovercontroller', 'uitableviewrowaction'}, 'Find String in List of String with edge spaces': {'spaces', 'string', 'edge', 'java'}, 'ajax request to form in css popup': {'forms', 'javascript', 'jquery', 'ajax', 'symfony-forms'}, 'How do you change the Stepper color on React Material UI?': {'reactjs', 'material-ui'}, 'Not able to save image at desired location/folder using AutoIT with Selenium Webdriver': {'selenium-webdriver', 'download', 'selenium-chromedriver', 'java', 'autoit'}, 'Undefined symbols for architecture x86_64 mac': {'c++'}, 'System.Reflection.TargetInvocationException&#39; occurred in mscorlib.dll in Saving IMAGE': {'vb.net'}, 'How to read csv file as DataFrame?': {'dataframe', 'spark-csv', 'apache-spark-2.0', 'scala', 'apache-spark'}, 'Spark Map transformation': {'transformation', 'apache-spark'}, 'ggplot linetype causing line to be invisible': {'ggplot2', 'r'}, 'Counting and looping through multiple arrays within object': {'javascript', 'arrays'}, '.Net culture codes for many countries/currencies do not exist. How do I find the next best option?': {'c#', '.net'}, 'How to trigger conditional if every date attribute is nil for current month of this year?': {'ruby-on-rails', 'ruby'}, 'Spring Boot: Configuring AuthenticationManager with custom UserDetailsService': {'spring-boot', 'spring-security', 'java'}, 'realm. remove objects from ListBase': {'realm'}, 'Why filtering a cropped image is 4x slower than filtering resized image (both have the same dimensions)': {'swift', 'core-image', 'core-graphics'}, 'VBA code for copying specific column of sheet1 to column of sheet2': {'vba'}, 'Android handler vs service': {'background-process', 'android-handler', 'android', 'android-service'}, 'setOnClickListener source - RuntimeException(&quot;Stub!&quot;)': {'button', 'android'}, 'register_form hook not working in wordpress 4.6.1': {'wordpress'}, 'i am getting error in this program': {'python-2.7'}, 'Pop-up blocker when to re-check after allowing page': {'google-chrome', 'popup-blocker', 'popup', 'javascript', 'firefox'}, 'I can not access phpMyAdmin on XAMPP': {'xampp', 'phpmyadmin'}, 'Validate whether a character is a specific letter or not?': {'java.util.scanner', 'validation', 'char', 'java'}, 'Trying one over the other with the same': {'html'}, 'gridview is not consistent after scrolling up or down': {'android', 'gridview', 'java'}, 'Convert a Map&lt;String, String&gt; to a POJO': {'jackson', 'json'}, 'what&#39;s preventing additions to the current set of R reserved words/symbols?': {'r'}, 'Disable webview browser tester ( android )': {'android'}, 'typo3 7.6 frontend editing': {'typo3', 'typo3-7.6.x', 'typoscript'}, 'Will declaring as pointer with a function that returns a pointer cause a chain of two pointers?': {'c', 'struct', 'pointers'}, 'Ember Data persisting model with hasMany relationship and fetching json': {'ember-data', 'ember.js', 'firebase'}, 'java Delete a Binary Tree node containing two children': {'java'}, 'Why backup &amp; restore are very slow after adding a FileTable': {'sql-server', 'database-backups', 'filetable', 'sql-server-2012'}, 'Gradle java version error?': {'intellij-idea', 'gradle', 'java'}, 'Python - Is it possible to read a path from a cfg file?': {'python-2.7', 'flask', 'debian', 'python'}, 'How to move Android source code files synced on Windows machine with Cygwin to PC running Ubuntu 14.04': {'android', 'git', 'ubuntu'}, 'How can I filter RETURNING *?': {'postgresql-9.5', 'sql-returning', 'postgresql', 'insert-update'}, 'How do you write an RDP for this arithmetic operation grammar?': {'c#', 'parsing', 'interpreter', 'recursive-descent'}, 'SQL group by case statement with COUNT DISTINCT': {'sql', 'sql-server-2012'}, 'Javascript - divs overlaying div on scroll issue': {'css3', 'javascript', 'jquery', 'html'}, 'AFNetworking 3 x-www-form-urlencoded post data': {'ios', 'http-post', 'afnetworking-3', 'post'}, 'How to apply a function on the output of nn.conv(). nn.conv3d()': {'tensorflow'}, 'Featured posts on front page': {'ghost', 'handlebars.js', 'ghost-blog'}, 'A plot isnt what it should be': {'function', 'matlab', 'plot'}, 'Google Maps crash during APK build execution': {'android', 'debug-build', 'assert', 'android-gradle', 'google-maps'}, 'LUA read text file, make split and send to array': {'lua'}, 'How to install tortoise svn in ubuntu?': {'ubuntu', 'linux'}, 'Using Macros to select function arguments': {'gcc', 'macros', 'arduino', 'c++'}, 'I try to load Poker Hand dataset(csv) into tensorflow, but the accuracy is always about 50%, how can I do with it?': {'csv', 'tensorflow'}, 'Wordpress theme appearing issue with internet explorer': {'wordpress-theming', 'internet-explorer-11'}, 'Redirect to a page other than login in Yii 2 behaviors': {'yii2'}, 'How to set default workspace when developing Launcher3': {'android-launcher'}, 'What do lazy and greedy mean in the context of regular expressions?': {'regex-greedy', 'non-greedy', 'regex'}, 'How to render templates dynamically in Angular 2?': {'angularjs', 'javascript', 'angular2'}, 'How to enable and show entered data in CKEDITOR?': {'ckeditor', 'php', 'jquery'}, 'Why my table pagination code is not working?': {'javascript', 'jquery'}, 'Angular2 on js error stops rendering': {'routes', 'angular2'}, 'Error while uploading App on Apple Store': {'swift', 'ios', 'app-store', 'itunesconnect'}, 'ScriptManager.RegisterStartupScript() method not working - ASP.NET, C#': {'c#', 'scriptmanager', 'asp.net', 'javascript', 'jquery'}, 'Share twitter button not inline': {'wordpress', 'php'}, 'C# - I have an issue with SoundPlayer': {'c#', 'player', 'synchronization', 'multithreading', 'soundplayer'}, 'Disable a selected element after select': {'jquery-ui-selectable', 'jquery-ui', 'javascript', 'jquery', 'css'}, 'Measuring Cyclomatic Complexity': {'cyclomatic-complexity', 'java'}, 'How to load image from directory, then show onclick': {'onclick', 'javascript', 'image'}, 'SSE matrix-matrix multiplication': {'c', 'sse', 'matrix-multiplication'}, 'creating a function that returns a string': {'c++'}, 'Golang - How to assign default value if env var is empty?': {'go', 'environment-variables'}, 'Why I got my local address when visit my server by nginx': {'nginx'}, 'Test explorer visual studio 2015 not discovering specflow tests': {'visual-studio-2015', 'specflow'}, 'HLSL constant buffer alignment D3DX11': {'hlsl', 'c++'}, 'Creating and using custom XML special characters with XmlSerializer': {'c#', 'xml', 'deserialization', 'serialization'}, 'Set custom view for my location button in google map': {'android', 'xml', 'java', 'google-maps'}, 'How to create a new instance of a model along with relations in redux-orm?': {'reactjs', 'redux', 'redux-orm'}, 'Proper Technique of sigining in with a Login Screen and TabController': {'ios', 'swift2', 'iphone'}, 'Foreach is not iterating properly /with WordPress': {'if-statement', 'foreach', 'wordpress', 'php', 'html'}, 'Check if pointer points to given array': {'c', 'pointers', 'arrays'}, '3D animation on website': {'3d', 'jquery', 'animation'}, 'How do I create A numpad': {'android', 'java'}, 'Developer unlocked windows phone gets locked for no reason': {'windows', 'unlock', 'phone', 'locked'}, 'How to find the difference of two lists including how they&#39;re ordered': {'list', 'python'}, 'How to create 2-line WearableListView items': {'listview', 'android', 'xml', 'android-wear', 'java'}, 'Android Glide Error:You cannot start a load for a destroyed activity': {'android-glide', 'android'}}\n",
      " For each tag, number of question asked,times ithas been answered:\n",
      "{'birt': [1, 1], 'spark-csv': [1, 5], 'java': [15, 17], 'ruby-on-rails': [1, 0], 'forms': [2, 1], 'spring-boot': [1, 1], 'afnetworking-3': [1, 3], 'excel': [1, 0], 'button': [1, 1], 'gridview': [1, 0], 'regex': [2, 10], 'python-2.7': [2, 1], 'foreach': [1, 1], 'interpreter': [1, 0], 'typoscript': [1, 1], 'android-launcher': [1, 1], 'routes': [1, 0], 'environment-variables': [1, 1], 'windows': [1, 1], 'symfony-forms': [1, 0], 'assert': [1, 3], 'selenium-webdriver': [1, 2], 'google-chrome': [1, 0], 'ckeditor': [1, 1], 'css': [1, 0], 'reactjs': [2, 0], 'statements': [1, 1], 'synchronization': [1, 2], 'core-graphics': [1, 2], 'matlab': [1, 1], 'text': [1, 3], 'java.util.scanner': [1, 3], 'json': [2, 6], 'debug-build': [1, 3], 'yii2': [1, 3], 'jquery-ui-selectable': [1, 0], 'php': [4, 4], 'csv': [1, 0], 'parsing': [1, 0], 'debian': [1, 1], 'linux': [2, 0], 'spaces': [1, 3], 'wordpress': [3, 2], 'go': [1, 1], 'ggplot2': [1, 1], 'gcc': [1, 1], 'scriptmanager': [1, 3], 'swift2': [1, 1], 'pointers': [2, 4], 'multithreading': [1, 2], 'wordpress-theming': [1, 0], 'google-spreadsheet': [1, 3], 'recursive-descent': [1, 0], 'phoenix': [1, 1], 'transactions': [1, 1], 'download': [1, 2], 'popup-blocker': [1, 0], 'hbase': [1, 1], 'angularjs': [1, 1], 'sql-returning': [1, 0], 'insert-update': [1, 0], 'ghost': [1, 2], 'visual-studio-2015': [1, 1], 'ruby': [1, 0], 'tensorflow': [2, 1], 'postgresql': [1, 0], 'perl': [1, 3], 'edge': [1, 3], 'autoit': [1, 2], 'api': [1, 0], 'core-image': [1, 2], 'apache-spark-2.0': [1, 5], 'ascii': [1, 8], 'apache-spark': [3, 7], 'function': [1, 1], 'handlebars.js': [1, 2], 'selenium-chromedriver': [1, 2], 'phpmyadmin': [1, 1], 'sql-server': [1, 0], 'xml': [3, 1], 'nginx': [1, 1], 'hlsl': [1, 0], 'asp.net': [1, 3], 'android-glide': [1, 0], 'override': [1, 1], 'angular2': [2, 1], 'google-apps-script': [1, 3], 'itunesconnect': [1, 0], 'jquery-ui': [1, 0], 'c#': [5, 5], 'android-download-manager': [1, 0], 'dns': [1, 0], 'string': [1, 3], 'apache-spark-sql': [1, 1], 'heap-size': [1, 1], 'sdk': [1, 0], 'material-ui': [1, 0], 'if-statement': [1, 1], 'html': [3, 3], 'sql': [1, 2], 'curl': [1, 1], 'popup': [1, 0], 'adb': [1, 8], 'android-handler': [1, 0], 'jackson': [1, 4], '3d': [1, 1], 'postgresql-9.5': [1, 0], 'login': [1, 1], 'char': [1, 3], 'wix': [1, 0], 'google-maps': [2, 4], 'plot': [1, 1], 'realm': [1, 0], 'internet-explorer-11': [1, 0], 'filetable': [1, 0], 'arrays': [2, 7], 'serialization': [1, 0], 'uitableviewrowaction': [1, 0], 'lua': [1, 0], 'arduino': [1, 1], 'objective-c': [2, 8], 'vba': [1, 0], 'sql-server-2012': [2, 2], 'validation': [1, 3], 'database-backups': [1, 0], 'firebase': [1, 0], 'image': [1, 0], 'player': [1, 2], 'gradle': [1, 0], 'struct': [1, 2], 'onclick': [1, 0], 'sse': [1, 0], 'git': [1, 1], 'matrix-multiplication': [1, 0], 'uipopovercontroller': [1, 0], 'firefox': [1, 0], '.net': [1, 0], 'google-form': [1, 3], 'c++': [5, 2], 'typo3': [1, 1], 'redux-orm': [1, 0], 'android': [11, 7], 'ajax': [1, 0], 'ghost-blog': [1, 2], 'c': [3, 4], 'cyclomatic-complexity': [1, 0], 'deserialization': [1, 0], 'android-wear': [1, 0], 'javascript': [10, 17], 'ios': [4, 4], 'r': [2, 1], 'app-store': [1, 0], 'redux': [1, 0], 'android-studio': [1, 8], 'non-greedy': [1, 7], 'macros': [1, 1], 'python': [5, 3], 'phone': [1, 1], 'scala': [1, 5], 'escaping': [1, 8], 'python-3.x': [1, 1], 'nfs': [1, 0], 'post': [1, 3], 'android-service': [1, 0], 'regex-greedy': [1, 7], 'jquery': [7, 5], 'android-gradle': [1, 3], 'animation': [1, 1], 'listview': [1, 0], 'http-post': [1, 3], 'ember-data': [1, 0], 'dataframe': [1, 5], 'iphone': [2, 9], 'powershell': [1, 2], 'recyclerview': [1, 0], 'swift': [3, 2], 'spring-mvc': [1, 1], 'ember.js': [1, 0], 'vb.net': [1, 0], 'specflow': [1, 1], 'soundplayer': [1, 2], 'background-process': [1, 0], 'flask': [1, 1], 'list': [1, 1], 'jboss': [1, 1], 'unlock': [1, 1], 'equals': [1, 1], 'cookies': [1, 1], 'xampp': [1, 1], 'typo3-7.6.x': [1, 1], 'intellij-idea': [1, 0], 'spring-security': [1, 1], 'transformation': [1, 1], 'ubuntu': [2, 1], 'css3': [1, 0], 'locked': [1, 1]}\n"
     ]
    }
   ],
   "source": [
    "import json \n",
    "import csv\n",
    "result = json.loads(open(\"/Users/ruiqizhang/DAPassignment/Midterm/que.json\").read())\n",
    "que_dict = {}\n",
    "for v in result['items']:\n",
    "    if v['title'] not in que_dict:\n",
    "        que_dict[v['title']] = set()\n",
    "    que_dict[v['title']] =  que_dict[v['title']] | set( v['tags'])\n",
    "#For each of the question that is asked, find out the tags attached to it.\n",
    "print('Tags attached to for each of the question: ')\n",
    "print(que_dict)\n",
    "\n",
    "#find how many time\n",
    "que_dict2 = {}\n",
    "for v in result['items']:\n",
    "    if v['title'] not in que_dict2:\n",
    "        que_dict2[v['title']] = 0\n",
    "    que_dict2[v['title']] +=  v['answer_count']\n",
    "#For each tag, calculate the number of question asked and how many times it has been answered.\n",
    "tag_dict = {}\n",
    "for key,value in que_dict.items():\n",
    "    for t in value:\n",
    "        if t not in tag_dict:\n",
    "            tag_dict[t] = [0,0]\n",
    "        tag_dict[t][0] += 1\n",
    "        tag_dict[t][1] += que_dict2[key]\n",
    "print(' For each tag, number of question asked,times ithas been answered:')\n",
    "print(tag_dict)    #the first element in the list is the the number of question asked  ,the second element is the how many times it has been answered."
   ]
  },
  {
   "cell_type": "code",
   "execution_count": 39,
   "metadata": {
    "collapsed": false
   },
   "outputs": [
    {
     "name": "stdout",
     "output_type": "stream",
     "text": [
      "the user whose questions have been downvoted the most: \n",
      "\n",
      "User name:    Counts\n",
      "dancerdiver101 : 1\n",
      "Aaron Hall : 1\n"
     ]
    }
   ],
   "source": [
    "import json\n",
    "result = json.loads(open(\"/Users/ruiqizhang/DAPassignment/Midterm/devotecount/devotecount.json\").read())\n",
    "usrid_devote_dict = {}\n",
    "#get all the ur message\n",
    "for v in result['items']:\n",
    "    if v['owner']['user_id'] not in usrid_devote_dict:\n",
    "        usrid_devote_dict[ v['owner']['user_id'] ] = [v['owner']['display_name'], 0]\n",
    "#get each usr 's disvote counts\n",
    "for v in result['items']:\n",
    "    usrid_devote_dict[ v['owner']['user_id'] ][1] += v['down_vote_count']\n",
    "#Print the usrid_devote_dict.\n",
    "#print(usrid_devote_dict)\n",
    "#sort the dict to get the max counts of disvote\n",
    "\n",
    "sort_data = sorted(usrid_devote_dict.items() , key = lambda x: x[1][1],reverse = True)\n",
    "\n",
    "#print(sort_data)\n",
    "the_max_count = sort_data[0][1][1]\n",
    "#find the max count's user name\n",
    "print(\"the user whose questions have been downvoted the most: \\n\\nUser name:    Counts\")\n",
    "for data in sort_data:\n",
    "    \n",
    "    if data[1][1] == the_max_count:\n",
    "        print(data[1][0] ,\":\",data[1][1])\n"
   ]
  },
  {
   "cell_type": "raw",
   "metadata": {},
   "source": [
    "For Analysis1 use userid to send request to get profile"
   ]
  },
  {
   "cell_type": "code",
   "execution_count": null,
   "metadata": {
    "collapsed": true
   },
   "outputs": [],
   "source": [
    "import json\n",
    "b = json.loads(open(\"pythonpandas.json\").read())\n",
    "result = {}\n",
    "for i in b['items']:\n",
    "    userid= i[\"owner\"][\"user_id\"]\n",
    "    if userid not in result:\n",
    "        result[i[\"owner\"][\"user_id\"]  ] = []\n",
    "    result[userid].append( i)\n",
    "for usr_id in result.keys():\n",
    "    q =  \"https://api.stackexchange.com/2.2/users/%s?order=desc&sort=reputation&site=stackoverflow\"%(usr_id)\n",
    "    data = requests.get(q)\n",
    "    data = data.text\n",
    "    fp = open('./1/%s'%(usr_id),'w')\n",
    "    fp.write(json.dumps( json.loads(data)) )\n",
    "    fp.close()"
   ]
  },
  {
   "cell_type": "raw",
   "metadata": {},
   "source": [
    "Analysis 5 (save data as csv)"
   ]
  },
  {
   "cell_type": "code",
   "execution_count": 35,
   "metadata": {
    "collapsed": false
   },
   "outputs": [
    {
     "name": "stdout",
     "output_type": "stream",
     "text": [
      "the user whose questions have been downvoted the most: \n",
      "\n",
      "User name:    Counts\n",
      "demented hedgehog : 1\n",
      "Rohit Gupta : 1\n",
      "Nathan : 1\n"
     ]
    }
   ],
   "source": [
    "import json\n",
    "import os\n",
    "import csv\n",
    "\n",
    "\n",
    "path = r\"./devotecount\"\n",
    "\n",
    "filse = []\n",
    "current_files = os.listdir(path)\n",
    "for file_name in current_files:\n",
    "    if '.json' in file_name:\n",
    "        full_file_name = os.path.join(path, file_name)\n",
    "        filse.append(full_file_name)\n",
    "\n",
    "\n",
    "\n",
    "for f in filse:\n",
    "\n",
    "\n",
    "    result = json.loads(open(f).read())\n",
    "    usrid_devote_dict = {}\n",
    "    #get all the usr message\n",
    "    for v in result['items']:\n",
    "        if v['owner']['user_id'] not in usrid_devote_dict:\n",
    "            usrid_devote_dict[ v['owner']['user_id'] ] = [v['owner']['display_name'].encode('gbk','ignore').decode('gbk'), 0]\n",
    "\n",
    "    #get each usr 's disvote counts\n",
    "    for v in result['items']:\n",
    "\n",
    "        usrid_devote_dict[ v['owner']['user_id'] ][1] += v['down_vote_count']\n",
    "\n",
    "    #Print the usrid_devote_dict.\n",
    "    #print(usrid_devote_dict)\n",
    "       \n",
    "        \n",
    "    #sort the dict to get the max counts of disvote\n",
    "\n",
    "sort_data = sorted(usrid_devote_dict.items() , key = lambda x: x[1][1],reverse = True)\n",
    "\n",
    "#print(sort_data)\n",
    "csvfile = open('analyze_5.csv', 'w')\n",
    "writer = csv.writer(csvfile)\n",
    "\n",
    "the_max_count = sort_data[0][1][1]\n",
    "    #find the max count's user name\n",
    "print(\"the user whose questions have been downvoted the most: \\n\\nUser name:    Counts\")\n",
    "for data in sort_data:\n",
    "        \n",
    "    if data[1][1] == the_max_count:\n",
    "        print(data[1][0] ,\":\",data[1][1])\n",
    "   \n",
    "writer.writerows(sort_data)\n",
    "csvfile.close()\n",
    "\n"
   ]
  },
  {
   "cell_type": "raw",
   "metadata": {},
   "source": [
    "Analysis 4(save output as csv)"
   ]
  },
  {
   "cell_type": "code",
   "execution_count": 52,
   "metadata": {
    "collapsed": false
   },
   "outputs": [
    {
     "name": "stdout",
     "output_type": "stream",
     "text": [
      " For each tag, number of question asked,times ithas been answered:\n",
      "{'amazon-web-services': [1, 0], 'image-uploading': [1, 0], 'pthreads': [1, 0], 'firebase-database': [1, 1], 'ruby-on-rails': [1, 2], 'reactjs': [1, 0], 'http-status-code-405': [1, 0], 'ibm': [1, 1], 'module': [1, 0], 'three.js': [1, 2], 'avplayer': [1, 0], 'visual-studio-2010': [1, 0], 'regex': [2, 1], 'vxworks': [1, 0], 'ionic2': [1, 0], 'file': [1, 0], 'android-layout': [1, 1], 'localbroadcastmanager': [1, 1], 'templates': [1, 0], 'snackbar': [1, 2], 'react-native-android': [1, 0], 'redux-framework': [1, 0], 'julia-lang': [1, 0], 'google-chrome': [2, 0], 'angular2-routing': [1, 1], 'css': [3, 38], 'arrays': [2, 1], 'solr': [1, 1], 'jquery': [1, 3], 'push-notification': [1, 0], 'camera': [1, 2], 'char': [1, 1], 'android-notification-bar': [1, 1], 'tweepy': [1, 0], 'mariadb': [1, 1], 'parse-server': [1, 1], 'windows-phone-8.1': [1, 1], 'android-intent': [2, 0], 'embedded': [1, 0], 'avplayeritem': [1, 0], 'csv': [2, 0], 'react-native': [1, 0], 'php': [5, 4], 'xcode': [1, 2], 'android-transitions': [1, 0], 'ionic-framework': [3, 0], 'openshift': [1, 0], 'jpa': [1, 2], 'relayjs': [1, 0], 'pointers': [1, 0], 'multithreading': [1, 0], 'signals': [1, 0], 'workbench': [1, 0], 'mysql': [5, 9], 'image': [1, 0], 'python-2.7': [1, 0], 'angularjs': [4, 1], 'ruby': [1, 2], 'twitch': [1, 1], 'video': [3, 1], 'nginx': [1, 0], 'maven': [1, 0], 'serial-port': [1, 0], 'sass': [1, 0], 'firebase-security': [1, 1], 'angular-ui-router': [1, 0], 'uipickerview': [1, 1], 'function': [1, 0], 'xib': [1, 2], 'iphone': [2, 1], 'signal-handling': [1, 0], 'visual-studio': [2, 3], 'sql-server-2014': [1, 0], 'wso2': [1, 0], 'sql-server': [1, 0], 'xml': [2, 1], 'tsql': [1, 0], 'angularfire2': [1, 0], 'video-editing': [1, 0], 'if-statement': [1, 7], 'uitableview': [1, 2], 'django-allauth': [1, 0], 'django-rest-framework': [1, 0], 'asp.net': [2, 2], 'android-5.0-lollipop': [1, 1], 'rotation': [1, 2], 'root': [1, 1], 'smart-pointers': [1, 1], 'recaptcha': [1, 0], 'ngmodel': [1, 0], 'c#': [2, 1], 'string': [2, 8], 'pattern-matching': [1, 1], 'wrapper': [1, 0], 'i18n-gem': [1, 2], 'html': [3, 0], 'entity-framework': [1, 2], 'sql': [2, 2], 'multidimensional-array': [1, 1], 'data-structures': [1, 0], 'office365': [1, 1], 'resteasy': [1, 0], 'mamp': [1, 0], 'websphere-mq': [1, 1], 'libgit2sharp': [1, 0], 'swift-playground': [1, 1], 'heroku': [1, 1], 'google-maps': [1, 0], 'jsdoc3': [1, 0], 'dictionary': [1, 2], 'stripe-payments': [1, 1], 'twitter-bootstrap': [1, 0], 'node.js': [2, 1], 'realm': [1, 2], 'javascript': [9, 7], 'configuration': [1, 2], 'stored-procedures': [1, 2], 'python-3.5': [1, 0], 'web-services': [1, 0], 'osx': [1, 0], 'jsdoc': [1, 0], 'xamarin.android': [1, 0], 'telerik': [1, 0], 'gdi+': [1, 2], 'algorithm': [1, 1], 'stripe-connect': [1, 1], 'titanium': [1, 0], 'hibernate': [1, 2], 'splunk': [1, 0], 'formatting': [1, 1], 'validation': [2, 6], 'vb.net': [1, 2], 'firebase': [1, 1], 'java': [6, 11], 'nsarray': [1, 1], 'phantomjs': [1, 1], 'cross-browser': [1, 33], 'tiff': [1, 2], 'css-preprocessor': [1, 0], 'wso2esb': [1, 0], 'statusbar': [1, 1], 'android-broadcast': [1, 1], 'google-chrome-extension': [2, 0], 'c++': [6, 3], 'android-animation': [1, 0], 'android': [11, 5], 'ajax': [1, 0], 'eclipse': [1, 0], 'c': [3, 10], 'aggregate': [1, 0], 'ffprobe': [1, 0], 'queue': [1, 0], 'canvas': [1, 0], 'html-table': [1, 5], 'ios': [7, 5], 'r': [1, 1], 'angularjs-directive': [1, 1], 'scroll': [1, 0], 'service': [1, 0], 'android-studio': [1, 0], 'html5': [1, 0], 'google-bigquery': [1, 0], 'autohotkey': [1, 0], 'python': [10, 5], 'broadcastreceiver': [1, 1], 'dji-sdk': [1, 0], 'frameworks': [1, 1], 'c++14': [1, 1], 'orientation': [1, 2], 'laravel': [1, 1], 'arm': [1, 0], 'numbers': [1, 6], 'windows': [2, 0], 'binary-tree': [1, 0], 'assembly': [1, 0], 'animation': [1, 1], 'payment': [1, 0], 'graphql-js': [1, 0], 'margins': [1, 1], 'c++11': [1, 1], 'listview': [1, 1], 'powershell': [2, 2], 'json': [3, 0], 'highcharts': [1, 2], 'angular2': [2, 1], 'swift': [2, 3], 'django': [2, 0], 'client-side': [1, 0], 'drone': [1, 0], 'shoes': [1, 0], 'webpack': [1, 0], 'rails-i18n': [1, 2], 'list': [2, 4], 'exchange-server': [1, 1], 'jboss': [1, 0], 'dom': [1, 0], 'ffmpeg': [2, 1], 'vertical-alignment': [1, 33], 'sql-server-2008': [1, 2], 'python-3.x': [2, 0], 'google-recaptcha': [1, 0], 'memory': [1, 0], 'nodes': [1, 0]}\n"
     ]
    }
   ],
   "source": [
    "import json\n",
    "import os\n",
    "import csv\n",
    "\n",
    "path = r\"./que\"\n",
    "\n",
    "\n",
    "filse = []\n",
    "current_files = os.listdir(path)\n",
    "for file_name in current_files:\n",
    "    if '.json' in file_name:\n",
    "        full_file_name = os.path.join(path, file_name)\n",
    "        filse.append(full_file_name)\n",
    "        \n",
    "for f in filse:\n",
    "\n",
    "\n",
    "    result = json.loads(open(f).read())\n",
    "    que_dict = {}\n",
    "    for v in result['items']:\n",
    "        if v['title'] not in que_dict:\n",
    "            que_dict[v['title']] = set()\n",
    "        que_dict[v['title']] =  que_dict[v['title']] | set( v['tags'])\n",
    "\n",
    "    #For each of the question that is asked, find out the tags attached to it.\n",
    "    #print(que_dict)\n",
    "            \n",
    "    #find how many time\n",
    "    que_dict2 = {}\n",
    "    for v in result['items']:\n",
    "        if v['title'] not in que_dict2:\n",
    "            que_dict2[v['title']] = 0\n",
    "        que_dict2[v['title']] +=  v['answer_count']\n",
    "\n",
    "#For each tag, calculate the number of question asked and how many times it has been answered.\n",
    "\n",
    "tag_dict = {}\n",
    "for key,value in que_dict.items():\n",
    "\n",
    "    for t in value:\n",
    "        if t not in tag_dict:\n",
    "            tag_dict[t] = [0,0]\n",
    "        tag_dict[t][0] += 1\n",
    "        tag_dict[t][1] += que_dict2[key]\n",
    "\n",
    "\n",
    "tag_list = [(  key,value)    for key,value in tag_dict.items()  ]\n",
    "\n",
    "csvfile = open('analyze_4.csv', 'w')\n",
    "writer = csv.writer(csvfile)\n",
    "\n",
    "writer.writerows(tag_list)\n",
    "csvfile.close()\n",
    "print(' For each tag, number of question asked,times ithas been answered:')       \n",
    "print(tag_dict)    #the first element in the list is the the number of question asked  ,the second element is the how many times it has been answered.\n",
    "\n"
   ]
  },
  {
   "cell_type": "code",
   "execution_count": null,
   "metadata": {
    "collapsed": true
   },
   "outputs": [],
   "source": []
  },
  {
   "cell_type": "code",
   "execution_count": null,
   "metadata": {
    "collapsed": true
   },
   "outputs": [],
   "source": []
  }
 ],
 "metadata": {
  "anaconda-cloud": {},
  "kernelspec": {
   "display_name": "Python [conda root]",
   "language": "python",
   "name": "conda-root-py"
  },
  "language_info": {
   "codemirror_mode": {
    "name": "ipython",
    "version": 3
   },
   "file_extension": ".py",
   "mimetype": "text/x-python",
   "name": "python",
   "nbconvert_exporter": "python",
   "pygments_lexer": "ipython3",
   "version": "3.5.2"
  }
 },
 "nbformat": 4,
 "nbformat_minor": 1
}
